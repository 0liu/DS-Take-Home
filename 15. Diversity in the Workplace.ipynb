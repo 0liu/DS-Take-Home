{
 "cells": [
  {
   "cell_type": "markdown",
   "metadata": {},
   "source": [
    "# Goal\n",
    "Diversity, unconscious bias in the workplace and, in general, the way companies treat their employees are a very important topic. Data science can help discover potential discriminations by looking at the data and see if there are segments of employees that are treated worse."
   ]
  },
  {
   "cell_type": "markdown",
   "metadata": {},
   "source": [
    "# Description\n",
    "There has been lots of talking about diversity in the workplace, especially in technology. The Head of HR at your company is very concerned about that and has asked you to analyze internal data about employees and see whether results suggest that the company is treating its employees fairly.\n",
    "\n",
    "Specifically, she gave you the following tasks:\n",
    "* In the company there are 6 levels (described below). Identify, for each employee, her corresponding level.\n",
    "    - Individual Contributors (IC) - they don't manage anyone \n",
    "    - Middle Managers (MM) - they are the direct bosses of IC \n",
    "    - Directors (D) - they are the direct bosses of MM\n",
    "    - VP - D direct bosses\n",
    "    - Executives (E) - VP direct bosses\n",
    "    - CEO - The direct boss of E.\n",
    "* How many people each employee manages? You should have a table with employee ids and the number of people managed. Consider that if John directly manages 2 people and these two people manage 5 people each, then we conclude that John manages 12 people.\n",
    "* Build a model to predict the salary of each employee.\n",
    "* Describe the main factors impacting employee salaries. Do you think the company has been treating its employees fairly? Do you see any bias? What are the next steps you would suggest to the Head of HR?"
   ]
  },
  {
   "cell_type": "code",
   "execution_count": 1,
   "metadata": {},
   "outputs": [],
   "source": [
    "import warnings\n",
    "warnings.simplefilter('ignore')\n",
    "\n",
    "import numpy as np\n",
    "import pandas as pd\n",
    "import seaborn as sns\n",
    "import matplotlib.pyplot as plt\n",
    "\n",
    "%matplotlib inline"
   ]
  },
  {
   "cell_type": "markdown",
   "metadata": {},
   "source": [
    "# Load Dataset"
   ]
  },
  {
   "cell_type": "code",
   "execution_count": 2,
   "metadata": {},
   "outputs": [
    {
     "data": {
      "text/html": [
       "<div>\n",
       "<style scoped>\n",
       "    .dataframe tbody tr th:only-of-type {\n",
       "        vertical-align: middle;\n",
       "    }\n",
       "\n",
       "    .dataframe tbody tr th {\n",
       "        vertical-align: top;\n",
       "    }\n",
       "\n",
       "    .dataframe thead th {\n",
       "        text-align: right;\n",
       "    }\n",
       "</style>\n",
       "<table border=\"1\" class=\"dataframe\">\n",
       "  <thead>\n",
       "    <tr style=\"text-align: right;\">\n",
       "      <th></th>\n",
       "      <th>employee_id</th>\n",
       "      <th>boss_id</th>\n",
       "      <th>dept</th>\n",
       "    </tr>\n",
       "  </thead>\n",
       "  <tbody>\n",
       "    <tr>\n",
       "      <th>0</th>\n",
       "      <td>46456</td>\n",
       "      <td>175361.0</td>\n",
       "      <td>sales</td>\n",
       "    </tr>\n",
       "    <tr>\n",
       "      <th>1</th>\n",
       "      <td>104708</td>\n",
       "      <td>29733.0</td>\n",
       "      <td>HR</td>\n",
       "    </tr>\n",
       "    <tr>\n",
       "      <th>2</th>\n",
       "      <td>120853</td>\n",
       "      <td>41991.0</td>\n",
       "      <td>sales</td>\n",
       "    </tr>\n",
       "    <tr>\n",
       "      <th>3</th>\n",
       "      <td>142630</td>\n",
       "      <td>171266.0</td>\n",
       "      <td>HR</td>\n",
       "    </tr>\n",
       "    <tr>\n",
       "      <th>4</th>\n",
       "      <td>72711</td>\n",
       "      <td>198240.0</td>\n",
       "      <td>sales</td>\n",
       "    </tr>\n",
       "  </tbody>\n",
       "</table>\n",
       "</div>"
      ],
      "text/plain": [
       "   employee_id   boss_id   dept\n",
       "0        46456  175361.0  sales\n",
       "1       104708   29733.0     HR\n",
       "2       120853   41991.0  sales\n",
       "3       142630  171266.0     HR\n",
       "4        72711  198240.0  sales"
      ]
     },
     "execution_count": 2,
     "metadata": {},
     "output_type": "execute_result"
    }
   ],
   "source": [
    "company = pd.read_csv('./data/HR/company_hierarchy.csv')\n",
    "company.head()"
   ]
  },
  {
   "cell_type": "code",
   "execution_count": 3,
   "metadata": {
    "scrolled": true
   },
   "outputs": [
    {
     "name": "stdout",
     "output_type": "stream",
     "text": [
      "<class 'pandas.core.frame.DataFrame'>\n",
      "RangeIndex: 10000 entries, 0 to 9999\n",
      "Data columns (total 3 columns):\n",
      "employee_id    10000 non-null int64\n",
      "boss_id        9999 non-null float64\n",
      "dept           10000 non-null object\n",
      "dtypes: float64(1), int64(1), object(1)\n",
      "memory usage: 234.5+ KB\n"
     ]
    }
   ],
   "source": [
    "company.info()"
   ]
  },
  {
   "cell_type": "code",
   "execution_count": 4,
   "metadata": {},
   "outputs": [
    {
     "data": {
      "text/html": [
       "<div>\n",
       "<style scoped>\n",
       "    .dataframe tbody tr th:only-of-type {\n",
       "        vertical-align: middle;\n",
       "    }\n",
       "\n",
       "    .dataframe tbody tr th {\n",
       "        vertical-align: top;\n",
       "    }\n",
       "\n",
       "    .dataframe thead th {\n",
       "        text-align: right;\n",
       "    }\n",
       "</style>\n",
       "<table border=\"1\" class=\"dataframe\">\n",
       "  <thead>\n",
       "    <tr style=\"text-align: right;\">\n",
       "      <th></th>\n",
       "      <th>employee_id</th>\n",
       "      <th>signing_bonus</th>\n",
       "      <th>salary</th>\n",
       "      <th>degree_level</th>\n",
       "      <th>sex</th>\n",
       "      <th>yrs_experience</th>\n",
       "    </tr>\n",
       "  </thead>\n",
       "  <tbody>\n",
       "    <tr>\n",
       "      <th>0</th>\n",
       "      <td>138719</td>\n",
       "      <td>0</td>\n",
       "      <td>273000.0</td>\n",
       "      <td>Master</td>\n",
       "      <td>M</td>\n",
       "      <td>2</td>\n",
       "    </tr>\n",
       "    <tr>\n",
       "      <th>1</th>\n",
       "      <td>3192</td>\n",
       "      <td>0</td>\n",
       "      <td>301000.0</td>\n",
       "      <td>Bachelor</td>\n",
       "      <td>F</td>\n",
       "      <td>1</td>\n",
       "    </tr>\n",
       "    <tr>\n",
       "      <th>2</th>\n",
       "      <td>114657</td>\n",
       "      <td>0</td>\n",
       "      <td>261000.0</td>\n",
       "      <td>Master</td>\n",
       "      <td>F</td>\n",
       "      <td>2</td>\n",
       "    </tr>\n",
       "    <tr>\n",
       "      <th>3</th>\n",
       "      <td>29039</td>\n",
       "      <td>0</td>\n",
       "      <td>86000.0</td>\n",
       "      <td>High_School</td>\n",
       "      <td>F</td>\n",
       "      <td>4</td>\n",
       "    </tr>\n",
       "    <tr>\n",
       "      <th>4</th>\n",
       "      <td>118607</td>\n",
       "      <td>0</td>\n",
       "      <td>126000.0</td>\n",
       "      <td>Bachelor</td>\n",
       "      <td>F</td>\n",
       "      <td>3</td>\n",
       "    </tr>\n",
       "  </tbody>\n",
       "</table>\n",
       "</div>"
      ],
      "text/plain": [
       "   employee_id  signing_bonus    salary degree_level sex  yrs_experience\n",
       "0       138719              0  273000.0       Master   M               2\n",
       "1         3192              0  301000.0     Bachelor   F               1\n",
       "2       114657              0  261000.0       Master   F               2\n",
       "3        29039              0   86000.0  High_School   F               4\n",
       "4       118607              0  126000.0     Bachelor   F               3"
      ]
     },
     "execution_count": 4,
     "metadata": {},
     "output_type": "execute_result"
    }
   ],
   "source": [
    "employee = pd.read_csv('./data/HR/employee.csv')\n",
    "employee.head()"
   ]
  },
  {
   "cell_type": "code",
   "execution_count": 5,
   "metadata": {},
   "outputs": [
    {
     "name": "stdout",
     "output_type": "stream",
     "text": [
      "<class 'pandas.core.frame.DataFrame'>\n",
      "RangeIndex: 10000 entries, 0 to 9999\n",
      "Data columns (total 6 columns):\n",
      "employee_id       10000 non-null int64\n",
      "signing_bonus     10000 non-null int64\n",
      "salary            10000 non-null float64\n",
      "degree_level      10000 non-null object\n",
      "sex               10000 non-null object\n",
      "yrs_experience    10000 non-null int64\n",
      "dtypes: float64(1), int64(3), object(2)\n",
      "memory usage: 468.8+ KB\n"
     ]
    }
   ],
   "source": [
    "employee.info()"
   ]
  },
  {
   "cell_type": "code",
   "execution_count": 6,
   "metadata": {},
   "outputs": [
    {
     "data": {
      "text/html": [
       "<div>\n",
       "<style scoped>\n",
       "    .dataframe tbody tr th:only-of-type {\n",
       "        vertical-align: middle;\n",
       "    }\n",
       "\n",
       "    .dataframe tbody tr th {\n",
       "        vertical-align: top;\n",
       "    }\n",
       "\n",
       "    .dataframe thead th {\n",
       "        text-align: right;\n",
       "    }\n",
       "</style>\n",
       "<table border=\"1\" class=\"dataframe\">\n",
       "  <thead>\n",
       "    <tr style=\"text-align: right;\">\n",
       "      <th></th>\n",
       "      <th>employee_id</th>\n",
       "      <th>signing_bonus</th>\n",
       "      <th>salary</th>\n",
       "      <th>yrs_experience</th>\n",
       "    </tr>\n",
       "  </thead>\n",
       "  <tbody>\n",
       "    <tr>\n",
       "      <th>count</th>\n",
       "      <td>10000.000000</td>\n",
       "      <td>10000.000000</td>\n",
       "      <td>10000.000000</td>\n",
       "      <td>10000.000000</td>\n",
       "    </tr>\n",
       "    <tr>\n",
       "      <th>mean</th>\n",
       "      <td>100001.855800</td>\n",
       "      <td>0.301400</td>\n",
       "      <td>189111.800000</td>\n",
       "      <td>3.875200</td>\n",
       "    </tr>\n",
       "    <tr>\n",
       "      <th>std</th>\n",
       "      <td>57500.488641</td>\n",
       "      <td>0.458889</td>\n",
       "      <td>88973.796898</td>\n",
       "      <td>3.107409</td>\n",
       "    </tr>\n",
       "    <tr>\n",
       "      <th>min</th>\n",
       "      <td>40.000000</td>\n",
       "      <td>0.000000</td>\n",
       "      <td>60000.000000</td>\n",
       "      <td>1.000000</td>\n",
       "    </tr>\n",
       "    <tr>\n",
       "      <th>25%</th>\n",
       "      <td>50574.500000</td>\n",
       "      <td>0.000000</td>\n",
       "      <td>110000.000000</td>\n",
       "      <td>2.000000</td>\n",
       "    </tr>\n",
       "    <tr>\n",
       "      <th>50%</th>\n",
       "      <td>99244.500000</td>\n",
       "      <td>0.000000</td>\n",
       "      <td>182000.000000</td>\n",
       "      <td>3.000000</td>\n",
       "    </tr>\n",
       "    <tr>\n",
       "      <th>75%</th>\n",
       "      <td>149748.500000</td>\n",
       "      <td>1.000000</td>\n",
       "      <td>255000.000000</td>\n",
       "      <td>5.000000</td>\n",
       "    </tr>\n",
       "    <tr>\n",
       "      <th>max</th>\n",
       "      <td>199956.000000</td>\n",
       "      <td>1.000000</td>\n",
       "      <td>700000.000000</td>\n",
       "      <td>34.000000</td>\n",
       "    </tr>\n",
       "  </tbody>\n",
       "</table>\n",
       "</div>"
      ],
      "text/plain": [
       "         employee_id  signing_bonus         salary  yrs_experience\n",
       "count   10000.000000   10000.000000   10000.000000    10000.000000\n",
       "mean   100001.855800       0.301400  189111.800000        3.875200\n",
       "std     57500.488641       0.458889   88973.796898        3.107409\n",
       "min        40.000000       0.000000   60000.000000        1.000000\n",
       "25%     50574.500000       0.000000  110000.000000        2.000000\n",
       "50%     99244.500000       0.000000  182000.000000        3.000000\n",
       "75%    149748.500000       1.000000  255000.000000        5.000000\n",
       "max    199956.000000       1.000000  700000.000000       34.000000"
      ]
     },
     "execution_count": 6,
     "metadata": {},
     "output_type": "execute_result"
    }
   ],
   "source": [
    "employee.describe()"
   ]
  },
  {
   "cell_type": "code",
   "execution_count": 7,
   "metadata": {},
   "outputs": [
    {
     "data": {
      "text/html": [
       "<div>\n",
       "<style scoped>\n",
       "    .dataframe tbody tr th:only-of-type {\n",
       "        vertical-align: middle;\n",
       "    }\n",
       "\n",
       "    .dataframe tbody tr th {\n",
       "        vertical-align: top;\n",
       "    }\n",
       "\n",
       "    .dataframe thead th {\n",
       "        text-align: right;\n",
       "    }\n",
       "</style>\n",
       "<table border=\"1\" class=\"dataframe\">\n",
       "  <thead>\n",
       "    <tr style=\"text-align: right;\">\n",
       "      <th></th>\n",
       "      <th>employee_id</th>\n",
       "      <th>signing_bonus</th>\n",
       "      <th>salary</th>\n",
       "      <th>degree_level</th>\n",
       "      <th>sex</th>\n",
       "      <th>yrs_experience</th>\n",
       "      <th>boss_id</th>\n",
       "      <th>dept</th>\n",
       "    </tr>\n",
       "  </thead>\n",
       "  <tbody>\n",
       "    <tr>\n",
       "      <th>0</th>\n",
       "      <td>138719</td>\n",
       "      <td>0</td>\n",
       "      <td>273000.0</td>\n",
       "      <td>Master</td>\n",
       "      <td>M</td>\n",
       "      <td>2</td>\n",
       "      <td>43602.0</td>\n",
       "      <td>engineering</td>\n",
       "    </tr>\n",
       "    <tr>\n",
       "      <th>1</th>\n",
       "      <td>3192</td>\n",
       "      <td>0</td>\n",
       "      <td>301000.0</td>\n",
       "      <td>Bachelor</td>\n",
       "      <td>F</td>\n",
       "      <td>1</td>\n",
       "      <td>87847.0</td>\n",
       "      <td>sales</td>\n",
       "    </tr>\n",
       "    <tr>\n",
       "      <th>2</th>\n",
       "      <td>114657</td>\n",
       "      <td>0</td>\n",
       "      <td>261000.0</td>\n",
       "      <td>Master</td>\n",
       "      <td>F</td>\n",
       "      <td>2</td>\n",
       "      <td>180854.0</td>\n",
       "      <td>sales</td>\n",
       "    </tr>\n",
       "    <tr>\n",
       "      <th>3</th>\n",
       "      <td>29039</td>\n",
       "      <td>0</td>\n",
       "      <td>86000.0</td>\n",
       "      <td>High_School</td>\n",
       "      <td>F</td>\n",
       "      <td>4</td>\n",
       "      <td>88370.0</td>\n",
       "      <td>HR</td>\n",
       "    </tr>\n",
       "    <tr>\n",
       "      <th>4</th>\n",
       "      <td>118607</td>\n",
       "      <td>0</td>\n",
       "      <td>126000.0</td>\n",
       "      <td>Bachelor</td>\n",
       "      <td>F</td>\n",
       "      <td>3</td>\n",
       "      <td>23565.0</td>\n",
       "      <td>sales</td>\n",
       "    </tr>\n",
       "  </tbody>\n",
       "</table>\n",
       "</div>"
      ],
      "text/plain": [
       "   employee_id  signing_bonus    salary degree_level sex  yrs_experience  \\\n",
       "0       138719              0  273000.0       Master   M               2   \n",
       "1         3192              0  301000.0     Bachelor   F               1   \n",
       "2       114657              0  261000.0       Master   F               2   \n",
       "3        29039              0   86000.0  High_School   F               4   \n",
       "4       118607              0  126000.0     Bachelor   F               3   \n",
       "\n",
       "    boss_id         dept  \n",
       "0   43602.0  engineering  \n",
       "1   87847.0        sales  \n",
       "2  180854.0        sales  \n",
       "3   88370.0           HR  \n",
       "4   23565.0        sales  "
      ]
     },
     "execution_count": 7,
     "metadata": {},
     "output_type": "execute_result"
    }
   ],
   "source": [
    "# merge employee and company information\n",
    "data = pd.merge(left=employee, right=company, on='employee_id')\n",
    "data.head()"
   ]
  },
  {
   "cell_type": "markdown",
   "metadata": {},
   "source": [
    "# Question 1\n",
    "In the company there are 6 levels (described below). Identify, for each employee, her corresponding level.\n",
    "* Individual Contributors (IC) - they don't manage anyone\n",
    "* Middle Managers (MM) - they are the direct bosses of IC\n",
    "* Directors (D) - they are the direct bosses of MM\n",
    "* VP - D direct bosses\n",
    "* Executives (E) - VP direct bosses\n",
    "* CEO - The direct boss of E."
   ]
  },
  {
   "cell_type": "code",
   "execution_count": 8,
   "metadata": {},
   "outputs": [],
   "source": [
    "levels = ['CEO', 'E', 'VP', 'D', 'MM', 'IC']\n",
    "data.loc[data['dept'] == 'CEO', 'level'] = 'CEO'\n",
    "\n",
    "for i in range(len(levels) - 1):\n",
    "    boss_level = levels[i]\n",
    "    empl_level = levels[i + 1]\n",
    "    boss_id = data[data['level'] == boss_level]['employee_id']\n",
    "    data.loc[data['boss_id'].isin(boss_id), 'level'] = empl_level"
   ]
  },
  {
   "cell_type": "code",
   "execution_count": 9,
   "metadata": {},
   "outputs": [
    {
     "data": {
      "text/html": [
       "<div>\n",
       "<style scoped>\n",
       "    .dataframe tbody tr th:only-of-type {\n",
       "        vertical-align: middle;\n",
       "    }\n",
       "\n",
       "    .dataframe tbody tr th {\n",
       "        vertical-align: top;\n",
       "    }\n",
       "\n",
       "    .dataframe thead th {\n",
       "        text-align: right;\n",
       "    }\n",
       "</style>\n",
       "<table border=\"1\" class=\"dataframe\">\n",
       "  <thead>\n",
       "    <tr style=\"text-align: right;\">\n",
       "      <th></th>\n",
       "      <th>employee_id</th>\n",
       "      <th>level</th>\n",
       "    </tr>\n",
       "  </thead>\n",
       "  <tbody>\n",
       "    <tr>\n",
       "      <th>9307</th>\n",
       "      <td>18710</td>\n",
       "      <td>IC</td>\n",
       "    </tr>\n",
       "    <tr>\n",
       "      <th>5302</th>\n",
       "      <td>143655</td>\n",
       "      <td>IC</td>\n",
       "    </tr>\n",
       "    <tr>\n",
       "      <th>7614</th>\n",
       "      <td>139073</td>\n",
       "      <td>IC</td>\n",
       "    </tr>\n",
       "    <tr>\n",
       "      <th>301</th>\n",
       "      <td>10492</td>\n",
       "      <td>IC</td>\n",
       "    </tr>\n",
       "    <tr>\n",
       "      <th>8131</th>\n",
       "      <td>94379</td>\n",
       "      <td>IC</td>\n",
       "    </tr>\n",
       "    <tr>\n",
       "      <th>542</th>\n",
       "      <td>171990</td>\n",
       "      <td>IC</td>\n",
       "    </tr>\n",
       "    <tr>\n",
       "      <th>9223</th>\n",
       "      <td>162586</td>\n",
       "      <td>IC</td>\n",
       "    </tr>\n",
       "    <tr>\n",
       "      <th>9285</th>\n",
       "      <td>15019</td>\n",
       "      <td>IC</td>\n",
       "    </tr>\n",
       "    <tr>\n",
       "      <th>8218</th>\n",
       "      <td>14515</td>\n",
       "      <td>IC</td>\n",
       "    </tr>\n",
       "    <tr>\n",
       "      <th>3282</th>\n",
       "      <td>134671</td>\n",
       "      <td>MM</td>\n",
       "    </tr>\n",
       "  </tbody>\n",
       "</table>\n",
       "</div>"
      ],
      "text/plain": [
       "      employee_id level\n",
       "9307        18710    IC\n",
       "5302       143655    IC\n",
       "7614       139073    IC\n",
       "301         10492    IC\n",
       "8131        94379    IC\n",
       "542        171990    IC\n",
       "9223       162586    IC\n",
       "9285        15019    IC\n",
       "8218        14515    IC\n",
       "3282       134671    MM"
      ]
     },
     "execution_count": 9,
     "metadata": {},
     "output_type": "execute_result"
    }
   ],
   "source": [
    "data[['employee_id', 'level']].sample(10)"
   ]
  },
  {
   "cell_type": "code",
   "execution_count": 10,
   "metadata": {},
   "outputs": [
    {
     "data": {
      "text/plain": [
       "IC     9000\n",
       "MM      800\n",
       "D       160\n",
       "VP       35\n",
       "E         4\n",
       "CEO       1\n",
       "Name: level, dtype: int64"
      ]
     },
     "execution_count": 10,
     "metadata": {},
     "output_type": "execute_result"
    }
   ],
   "source": [
    "# value counts for each group\n",
    "data['level'].value_counts()"
   ]
  },
  {
   "cell_type": "markdown",
   "metadata": {},
   "source": [
    "# Question 2\n",
    "How many people each employee manages? You should have a table with employee ids and the number of people managed. Consider that if John directly manages 2 people and these two people manage 5 people each, then we conclude that John manages 12 people."
   ]
  },
  {
   "cell_type": "code",
   "execution_count": 11,
   "metadata": {},
   "outputs": [],
   "source": [
    "# find the managed employees for each employee\n",
    "data['counts'] = 0\n",
    "\n",
    "for level in ['IC', 'MM', 'D', 'VP', 'E']:\n",
    "    boss_ids = data[data['level'] == level]['boss_id']\n",
    "    employee_ids = data[data['level'] == level]['employee_id']\n",
    "    for b_id, e_id in zip(boss_ids, employee_ids):\n",
    "        e_counts = int(1 + data.loc[data['employee_id'] == e_id, 'counts'])\n",
    "        b_counts = int(data.loc[data['employee_id'] == b_id, 'counts'])\n",
    "        data.loc[data['employee_id'] == b_id, 'counts'] = e_counts + b_counts"
   ]
  },
  {
   "cell_type": "code",
   "execution_count": 12,
   "metadata": {},
   "outputs": [
    {
     "data": {
      "text/html": [
       "<div>\n",
       "<style scoped>\n",
       "    .dataframe tbody tr th:only-of-type {\n",
       "        vertical-align: middle;\n",
       "    }\n",
       "\n",
       "    .dataframe tbody tr th {\n",
       "        vertical-align: top;\n",
       "    }\n",
       "\n",
       "    .dataframe thead th {\n",
       "        text-align: right;\n",
       "    }\n",
       "</style>\n",
       "<table border=\"1\" class=\"dataframe\">\n",
       "  <thead>\n",
       "    <tr style=\"text-align: right;\">\n",
       "      <th></th>\n",
       "      <th>employee_id</th>\n",
       "      <th>level</th>\n",
       "      <th>counts</th>\n",
       "    </tr>\n",
       "  </thead>\n",
       "  <tbody>\n",
       "    <tr>\n",
       "      <th>1786</th>\n",
       "      <td>191289</td>\n",
       "      <td>MM</td>\n",
       "      <td>13</td>\n",
       "    </tr>\n",
       "    <tr>\n",
       "      <th>6421</th>\n",
       "      <td>40726</td>\n",
       "      <td>IC</td>\n",
       "      <td>0</td>\n",
       "    </tr>\n",
       "    <tr>\n",
       "      <th>6938</th>\n",
       "      <td>49166</td>\n",
       "      <td>IC</td>\n",
       "      <td>0</td>\n",
       "    </tr>\n",
       "    <tr>\n",
       "      <th>1964</th>\n",
       "      <td>61403</td>\n",
       "      <td>D</td>\n",
       "      <td>66</td>\n",
       "    </tr>\n",
       "    <tr>\n",
       "      <th>4968</th>\n",
       "      <td>117021</td>\n",
       "      <td>IC</td>\n",
       "      <td>0</td>\n",
       "    </tr>\n",
       "    <tr>\n",
       "      <th>7476</th>\n",
       "      <td>188389</td>\n",
       "      <td>IC</td>\n",
       "      <td>0</td>\n",
       "    </tr>\n",
       "    <tr>\n",
       "      <th>3264</th>\n",
       "      <td>104957</td>\n",
       "      <td>IC</td>\n",
       "      <td>0</td>\n",
       "    </tr>\n",
       "    <tr>\n",
       "      <th>3420</th>\n",
       "      <td>25568</td>\n",
       "      <td>IC</td>\n",
       "      <td>0</td>\n",
       "    </tr>\n",
       "    <tr>\n",
       "      <th>1787</th>\n",
       "      <td>158402</td>\n",
       "      <td>IC</td>\n",
       "      <td>0</td>\n",
       "    </tr>\n",
       "    <tr>\n",
       "      <th>2774</th>\n",
       "      <td>177560</td>\n",
       "      <td>IC</td>\n",
       "      <td>0</td>\n",
       "    </tr>\n",
       "  </tbody>\n",
       "</table>\n",
       "</div>"
      ],
      "text/plain": [
       "      employee_id level  counts\n",
       "1786       191289    MM      13\n",
       "6421        40726    IC       0\n",
       "6938        49166    IC       0\n",
       "1964        61403     D      66\n",
       "4968       117021    IC       0\n",
       "7476       188389    IC       0\n",
       "3264       104957    IC       0\n",
       "3420        25568    IC       0\n",
       "1787       158402    IC       0\n",
       "2774       177560    IC       0"
      ]
     },
     "execution_count": 12,
     "metadata": {},
     "output_type": "execute_result"
    }
   ],
   "source": [
    "data[['employee_id', 'level', 'counts']].sample(10)"
   ]
  },
  {
   "cell_type": "markdown",
   "metadata": {},
   "source": [
    "# Question 3\n",
    "Build a model to predict the salary of each employee."
   ]
  },
  {
   "cell_type": "code",
   "execution_count": 13,
   "metadata": {},
   "outputs": [
    {
     "data": {
      "text/html": [
       "<div>\n",
       "<style scoped>\n",
       "    .dataframe tbody tr th:only-of-type {\n",
       "        vertical-align: middle;\n",
       "    }\n",
       "\n",
       "    .dataframe tbody tr th {\n",
       "        vertical-align: top;\n",
       "    }\n",
       "\n",
       "    .dataframe thead th {\n",
       "        text-align: right;\n",
       "    }\n",
       "</style>\n",
       "<table border=\"1\" class=\"dataframe\">\n",
       "  <thead>\n",
       "    <tr style=\"text-align: right;\">\n",
       "      <th></th>\n",
       "      <th>employee_id</th>\n",
       "      <th>signing_bonus</th>\n",
       "      <th>salary</th>\n",
       "      <th>degree_level</th>\n",
       "      <th>sex</th>\n",
       "      <th>yrs_experience</th>\n",
       "      <th>boss_id</th>\n",
       "      <th>dept</th>\n",
       "      <th>level</th>\n",
       "      <th>counts</th>\n",
       "    </tr>\n",
       "  </thead>\n",
       "  <tbody>\n",
       "    <tr>\n",
       "      <th>0</th>\n",
       "      <td>138719</td>\n",
       "      <td>0</td>\n",
       "      <td>273000.0</td>\n",
       "      <td>Master</td>\n",
       "      <td>M</td>\n",
       "      <td>2</td>\n",
       "      <td>43602.0</td>\n",
       "      <td>engineering</td>\n",
       "      <td>IC</td>\n",
       "      <td>0</td>\n",
       "    </tr>\n",
       "    <tr>\n",
       "      <th>1</th>\n",
       "      <td>3192</td>\n",
       "      <td>0</td>\n",
       "      <td>301000.0</td>\n",
       "      <td>Bachelor</td>\n",
       "      <td>F</td>\n",
       "      <td>1</td>\n",
       "      <td>87847.0</td>\n",
       "      <td>sales</td>\n",
       "      <td>IC</td>\n",
       "      <td>0</td>\n",
       "    </tr>\n",
       "    <tr>\n",
       "      <th>2</th>\n",
       "      <td>114657</td>\n",
       "      <td>0</td>\n",
       "      <td>261000.0</td>\n",
       "      <td>Master</td>\n",
       "      <td>F</td>\n",
       "      <td>2</td>\n",
       "      <td>180854.0</td>\n",
       "      <td>sales</td>\n",
       "      <td>IC</td>\n",
       "      <td>0</td>\n",
       "    </tr>\n",
       "    <tr>\n",
       "      <th>3</th>\n",
       "      <td>29039</td>\n",
       "      <td>0</td>\n",
       "      <td>86000.0</td>\n",
       "      <td>High_School</td>\n",
       "      <td>F</td>\n",
       "      <td>4</td>\n",
       "      <td>88370.0</td>\n",
       "      <td>HR</td>\n",
       "      <td>IC</td>\n",
       "      <td>0</td>\n",
       "    </tr>\n",
       "    <tr>\n",
       "      <th>4</th>\n",
       "      <td>118607</td>\n",
       "      <td>0</td>\n",
       "      <td>126000.0</td>\n",
       "      <td>Bachelor</td>\n",
       "      <td>F</td>\n",
       "      <td>3</td>\n",
       "      <td>23565.0</td>\n",
       "      <td>sales</td>\n",
       "      <td>IC</td>\n",
       "      <td>0</td>\n",
       "    </tr>\n",
       "  </tbody>\n",
       "</table>\n",
       "</div>"
      ],
      "text/plain": [
       "   employee_id  signing_bonus    salary degree_level sex  yrs_experience  \\\n",
       "0       138719              0  273000.0       Master   M               2   \n",
       "1         3192              0  301000.0     Bachelor   F               1   \n",
       "2       114657              0  261000.0       Master   F               2   \n",
       "3        29039              0   86000.0  High_School   F               4   \n",
       "4       118607              0  126000.0     Bachelor   F               3   \n",
       "\n",
       "    boss_id         dept level  counts  \n",
       "0   43602.0  engineering    IC       0  \n",
       "1   87847.0        sales    IC       0  \n",
       "2  180854.0        sales    IC       0  \n",
       "3   88370.0           HR    IC       0  \n",
       "4   23565.0        sales    IC       0  "
      ]
     },
     "execution_count": 13,
     "metadata": {},
     "output_type": "execute_result"
    }
   ],
   "source": [
    "data.head()"
   ]
  },
  {
   "cell_type": "markdown",
   "metadata": {},
   "source": [
    "### Visualization"
   ]
  },
  {
   "cell_type": "code",
   "execution_count": 14,
   "metadata": {},
   "outputs": [
    {
     "data": {
      "image/png": "[encoded data removed]",
      "text/plain": [
       "<Figure size 648x360 with 1 Axes>"
      ]
     },
     "metadata": {},
     "output_type": "display_data"
    }
   ],
   "source": [
    "# Distribution of salary\n",
    "warnings.filterwarnings('ignore')\n",
    "hist_kws={'histtype': 'bar', 'edgecolor':'black', 'alpha': 0.2}\n",
    "\n",
    "fig, ax = plt.subplots(figsize=(9, 5))\n",
    "sns.distplot(data['salary'], ax=ax, hist_kws=hist_kws)\n",
    "plt.tight_layout()\n",
    "plt.show()"
   ]
  },
  {
   "cell_type": "code",
   "execution_count": 15,
   "metadata": {},
   "outputs": [
    {
     "data": {
      "image/png": "[encoded data removed]",
      "text/plain": [
       "<Figure size 1152x432 with 2 Axes>"
      ]
     },
     "metadata": {},
     "output_type": "display_data"
    }
   ],
   "source": [
    "# visualization of 'signing_bonus'\n",
    "fig, ax = plt.subplots(nrows=1, ncols=2, figsize=(16, 6))\n",
    "sns.countplot(x='signing_bonus', data=data, ax=ax[0])\n",
    "ax[0].set_xlabel('signing_bonus', fontsize=12)\n",
    "ax[0].set_ylabel('Count', fontsize=12)\n",
    "ax[0].set_title('Count Plot of signing_bonus', fontsize=16)\n",
    "\n",
    "sns.barplot(x='signing_bonus', y='salary', data=data, ax=ax[1])\n",
    "ax[1].set_xlabel('signing_bonus', fontsize=12)\n",
    "ax[1].set_ylabel('Salary', fontsize=12)\n",
    "ax[1].set_title('Salary vs. signing_bonus', fontsize=16)\n",
    "plt.tight_layout()\n",
    "plt.show()"
   ]
  },
  {
   "cell_type": "code",
   "execution_count": 16,
   "metadata": {},
   "outputs": [
    {
     "data": {
      "image/png": "[encoded data removed]",
      "text/plain": [
       "<Figure size 1152x432 with 2 Axes>"
      ]
     },
     "metadata": {},
     "output_type": "display_data"
    }
   ],
   "source": [
    "# visualization of 'signing_bonus'\n",
    "fig, ax = plt.subplots(nrows=1, ncols=2, figsize=(16, 6))\n",
    "sns.countplot(x='degree_level', data=data, ax=ax[0])\n",
    "ax[0].set_xlabel('degree_level', fontsize=12)\n",
    "ax[0].set_ylabel('Count', fontsize=12)\n",
    "ax[0].set_title('Count Plot of degree_level', fontsize=16)\n",
    "\n",
    "sns.barplot(x='degree_level', y='salary', data=data, ax=ax[1])\n",
    "ax[1].set_xlabel('degree_level', fontsize=12)\n",
    "ax[1].set_ylabel('Salary', fontsize=12)\n",
    "ax[1].set_title('Salary vs. degree_level', fontsize=16)\n",
    "plt.tight_layout()\n",
    "plt.show()"
   ]
  },
  {
   "cell_type": "code",
   "execution_count": 17,
   "metadata": {},
   "outputs": [
    {
     "data": {
      "image/png": "[encoded data removed]",
      "text/plain": [
       "<Figure size 1152x432 with 2 Axes>"
      ]
     },
     "metadata": {},
     "output_type": "display_data"
    }
   ],
   "source": [
    "# visualization of 'signing_bonus'\n",
    "fig, ax = plt.subplots(nrows=1, ncols=2, figsize=(16, 6))\n",
    "sns.countplot(x='sex', data=data, ax=ax[0])\n",
    "ax[0].set_xlabel('sex', fontsize=12)\n",
    "ax[0].set_ylabel('Count', fontsize=12)\n",
    "ax[0].set_title('Count Plot of sex', fontsize=16)\n",
    "\n",
    "sns.barplot(x='sex', y='salary', data=data, ax=ax[1])\n",
    "ax[1].set_xlabel('sex', fontsize=12)\n",
    "ax[1].set_ylabel('Salary', fontsize=12)\n",
    "ax[1].set_title('Salary vs. sex', fontsize=16)\n",
    "plt.tight_layout()\n",
    "plt.show()"
   ]
  },
  {
   "cell_type": "code",
   "execution_count": 18,
   "metadata": {},
   "outputs": [
    {
     "data": {
      "image/png": "[encoded data removed]",
      "text/plain": [
       "<Figure size 1152x432 with 2 Axes>"
      ]
     },
     "metadata": {},
     "output_type": "display_data"
    }
   ],
   "source": [
    "# visualization of 'signing_bonus'\n",
    "fig, ax = plt.subplots(nrows=1, ncols=2, figsize=(16, 6))\n",
    "sns.countplot(x='yrs_experience', data=data, ax=ax[0])\n",
    "ax[0].set_xlabel('yrs_experience', fontsize=12)\n",
    "ax[0].set_ylabel('Count', fontsize=12)\n",
    "ax[0].set_title('Count Plot of yrs_experience', fontsize=16)\n",
    "\n",
    "sns.barplot(x='yrs_experience', y='salary', data=data, ax=ax[1])\n",
    "ax[1].set_xlabel('yrs_experience', fontsize=12)\n",
    "ax[1].set_ylabel('Salary', fontsize=12)\n",
    "ax[1].set_title('Salary vs. yrs_experience', fontsize=16)\n",
    "plt.tight_layout()\n",
    "plt.show()"
   ]
  },
  {
   "cell_type": "code",
   "execution_count": 19,
   "metadata": {},
   "outputs": [
    {
     "data": {
      "image/png": "[encoded data removed]",
      "text/plain": [
       "<Figure size 1152x432 with 2 Axes>"
      ]
     },
     "metadata": {},
     "output_type": "display_data"
    }
   ],
   "source": [
    "# visualization of 'signing_bonus'\n",
    "fig, ax = plt.subplots(nrows=1, ncols=2, figsize=(16, 6))\n",
    "sns.countplot(x='dept', data=data, ax=ax[0])\n",
    "ax[0].set_xlabel('dept', fontsize=12)\n",
    "ax[0].set_ylabel('Count', fontsize=12)\n",
    "ax[0].set_title('Count Plot of dept', fontsize=16)\n",
    "\n",
    "sns.barplot(x='dept', y='salary', data=data, ax=ax[1])\n",
    "ax[1].set_xlabel('dept', fontsize=12)\n",
    "ax[1].set_ylabel('Salary', fontsize=12)\n",
    "ax[1].set_title('Salary vs. dept', fontsize=16)\n",
    "plt.tight_layout()\n",
    "plt.show()"
   ]
  },
  {
   "cell_type": "code",
   "execution_count": 20,
   "metadata": {},
   "outputs": [
    {
     "data": {
      "image/png": "[encoded data removed]",
      "text/plain": [
       "<Figure size 1152x432 with 2 Axes>"
      ]
     },
     "metadata": {},
     "output_type": "display_data"
    }
   ],
   "source": [
    "# visualization of 'signing_bonus'\n",
    "orders = ['IC', 'MM', 'D', 'VP', 'E', 'CEO']\n",
    "fig, ax = plt.subplots(nrows=1, ncols=2, figsize=(16, 6))\n",
    "sns.countplot(x='level', data=data, ax=ax[0], order=orders)\n",
    "ax[0].set_xlabel('level', fontsize=12)\n",
    "ax[0].set_ylabel('Count', fontsize=12)\n",
    "ax[0].set_title('Count Plot of level', fontsize=16)\n",
    "\n",
    "sns.barplot(x='level', y='salary', data=data, ax=ax[1], order=orders)\n",
    "ax[1].set_xlabel('level', fontsize=12)\n",
    "ax[1].set_ylabel('Salary', fontsize=12)\n",
    "ax[1].set_title('Salary vs. level', fontsize=16)\n",
    "plt.tight_layout()\n",
    "plt.show()"
   ]
  },
  {
   "cell_type": "code",
   "execution_count": 21,
   "metadata": {},
   "outputs": [
    {
     "data": {
      "image/png": "[encoded data removed]",
      "text/plain": [
       "<Figure size 432x432 with 3 Axes>"
      ]
     },
     "metadata": {},
     "output_type": "display_data"
    }
   ],
   "source": [
    "sns.jointplot(x='counts', y='salary', data=data, kind='scatter', size=6)\n",
    "plt.show()"
   ]
  },
  {
   "cell_type": "code",
   "execution_count": 22,
   "metadata": {},
   "outputs": [
    {
     "data": {
      "image/png": "[encoded data removed]",
      "text/plain": [
       "<Figure size 576x432 with 2 Axes>"
      ]
     },
     "metadata": {},
     "output_type": "display_data"
    }
   ],
   "source": [
    "fig, ax = plt.subplots(figsize=(8, 6))\n",
    "subset = data[['signing_bonus', 'yrs_experience', 'counts', 'salary']]\n",
    "sns.heatmap(subset.corr(), ax=ax)\n",
    "plt.show()"
   ]
  },
  {
   "cell_type": "markdown",
   "metadata": {},
   "source": [
    "### Build Machine Learning Models with LightGBM"
   ]
  },
  {
   "cell_type": "code",
   "execution_count": 23,
   "metadata": {},
   "outputs": [],
   "source": [
    "# drop useless features\n",
    "data = data.drop(labels=['employee_id', 'boss_id'], axis=1)"
   ]
  },
  {
   "cell_type": "code",
   "execution_count": null,
   "metadata": {},
   "outputs": [],
   "source": []
  },
  {
   "cell_type": "code",
   "execution_count": null,
   "metadata": {},
   "outputs": [],
   "source": []
  },
  {
   "cell_type": "code",
   "execution_count": null,
   "metadata": {},
   "outputs": [],
   "source": []
  },
  {
   "cell_type": "code",
   "execution_count": null,
   "metadata": {},
   "outputs": [],
   "source": []
  },
  {
   "cell_type": "markdown",
   "metadata": {},
   "source": [
    "# Question 4\n",
    "Describe the main factors impacting employee salaries. Do you think the company has been treating its employees fairly? Do you see any bias? What are the next steps you would suggest to the Head of HR?"
   ]
  },
  {
   "cell_type": "code",
   "execution_count": null,
   "metadata": {},
   "outputs": [],
   "source": []
  },
  {
   "cell_type": "code",
   "execution_count": null,
   "metadata": {},
   "outputs": [],
   "source": []
  },
  {
   "cell_type": "code",
   "execution_count": null,
   "metadata": {},
   "outputs": [],
   "source": []
  },
  {
   "cell_type": "code",
   "execution_count": null,
   "metadata": {},
   "outputs": [],
   "source": []
  }
 ],
 "metadata": {
  "kernelspec": {
   "display_name": "Python 3",
   "language": "python",
   "name": "python3"
  },
  "language_info": {
   "codemirror_mode": {
    "name": "ipython",
    "version": 3
   },
   "file_extension": ".py",
   "mimetype": "text/x-python",
   "name": "python",
   "nbconvert_exporter": "python",
   "pygments_lexer": "ipython3",
   "version": "3.6.5"
  }
 },
 "nbformat": 4,
 "nbformat_minor": 2
}
